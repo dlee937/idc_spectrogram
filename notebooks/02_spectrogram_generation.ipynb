{
 "cells": [
  {
   "cell_type": "markdown",
   "metadata": {},
   "source": [
    "# 02 - Spectrogram Generation\n",
    "## Converting IQ Data to RF Spectrograms\n",
    "\n",
    "This notebook covers:\n",
    "- Generating spectrograms from IQ data\n",
    "- Georgia Tech normalization procedure\n",
    "- Batch processing multiple files\n",
    "- Saving spectrograms as PNG images"
   ]
  },
  {
   "cell_type": "code",
   "execution_count": null,
   "metadata": {},
   "outputs": [],
   "source": [
    "# Setup\n",
    "import sys\n",
    "sys.path.append('..')\n",
    "\n",
    "import numpy as np\n",
    "import matplotlib.pyplot as plt\n",
    "from pathlib import Path\n",
    "import cv2\n",
    "\n",
    "from src.io_utils import load_iq_data\n",
    "from src.spectrogram import generate_spectrogram\n",
    "from src.preprocessing import process_iq_files_to_spectrograms\n",
    "\n",
    "print(\"✅ All imports successful!\")"
   ]
  },
  {
   "cell_type": "markdown",
   "metadata": {},
   "source": [
    "## Configuration"
   ]
  },
  {
   "cell_type": "code",
   "execution_count": null,
   "metadata": {},
   "outputs": [],
   "source": [
    "# Paths\n",
    "RAW_DATA_DIR = Path('../data/raw')\n",
    "SPECTROGRAM_DIR = Path('../data/spectrograms')\n",
    "SPECTROGRAM_DIR.mkdir(parents=True, exist_ok=True)\n",
    "\n",
    "# Parameters\n",
    "SAMPLE_RATE = 20e6  # 20 MHz\n",
    "SEGMENT_DURATION = 410e-6  # 410 μs per frame\n",
    "DTYPE = 'sc16'\n",
    "COLORMAP = 'viridis'  # Options: 'viridis', 'plasma', 'turbo', 'jet'\n",
    "\n",
    "print(f\"Sample rate: {SAMPLE_RATE/1e6} MHz\")\n",
    "print(f\"Segment duration: {SEGMENT_DURATION*1e6} μs\")\n",
    "print(f\"Samples per segment: {int(SEGMENT_DURATION * SAMPLE_RATE)}\")"
   ]
  },
  {
   "cell_type": "markdown",
   "metadata": {},
   "source": [
    "## Generate Single Spectrogram (Test)"
   ]
  },
  {
   "cell_type": "code",
   "execution_count": null,
   "metadata": {},
   "outputs": [],
   "source": [
    "# Load sample IQ data\n",
    "iq_files = sorted(RAW_DATA_DIR.glob(f'*.{DTYPE}'))\n",
    "\n",
    "if len(iq_files) > 0:\n",
    "    sample_file = iq_files[0]\n",
    "    iq_data = load_iq_data(sample_file, dtype=DTYPE)\n",
    "    \n",
    "    # Take first segment\n",
    "    samples_per_segment = int(SEGMENT_DURATION * SAMPLE_RATE)\n",
    "    segment = iq_data[:samples_per_segment]\n",
    "    \n",
    "    # Generate spectrogram\n",
    "    spec_img, t, f = generate_spectrogram(\n",
    "        segment,\n",
    "        fs=SAMPLE_RATE,\n",
    "        colormap_name=COLORMAP\n",
    "    )\n",
    "    \n",
    "    print(f\"Spectrogram shape: {spec_img.shape}\")\n",
    "    print(f\"Time axis: {len(t)} points\")\n",
    "    print(f\"Frequency axis: {len(f)} points\")\n",
    "    \n",
    "    # Display\n",
    "    plt.figure(figsize=(10, 8))\n",
    "    plt.imshow(spec_img, aspect='auto', origin='lower')\n",
    "    plt.title('Sample Spectrogram')\n",
    "    plt.xlabel('Time')\n",
    "    plt.ylabel('Frequency')\n",
    "    plt.colorbar(label='Intensity')\n",
    "    plt.tight_layout()\n",
    "    plt.show()\n",
    "else:\n",
    "    print(\"⚠️ No IQ files found\")"
   ]
  },
  {
   "cell_type": "markdown",
   "metadata": {},
   "source": [
    "## Batch Process All IQ Files"
   ]
  },
  {
   "cell_type": "code",
   "execution_count": null,
   "metadata": {},
   "outputs": [],
   "source": [
    "# Process all files in the raw directory\n",
    "process_iq_files_to_spectrograms(\n",
    "    input_dir=RAW_DATA_DIR,\n",
    "    output_dir=SPECTROGRAM_DIR,\n",
    "    file_pattern=f'*.{DTYPE}',\n",
    "    segment_duration=SEGMENT_DURATION,\n",
    "    fs=SAMPLE_RATE,\n",
    "    dtype=DTYPE,\n",
    "    colormap=COLORMAP\n",
    ")"
   ]
  },
  {
   "cell_type": "markdown",
   "metadata": {},
   "source": [
    "## Verify Generated Spectrograms"
   ]
  },
  {
   "cell_type": "code",
   "execution_count": null,
   "metadata": {},
   "outputs": [],
   "source": [
    "# List generated spectrograms\n",
    "spec_files = sorted(SPECTROGRAM_DIR.glob('*.png'))\n",
    "print(f\"Generated {len(spec_files)} spectrograms\")\n",
    "\n",
    "# Display first few\n",
    "if len(spec_files) > 0:\n",
    "    fig, axes = plt.subplots(2, 3, figsize=(15, 10))\n",
    "    axes = axes.flatten()\n",
    "    \n",
    "    for idx, spec_file in enumerate(spec_files[:6]):\n",
    "        img = cv2.imread(str(spec_file))\n",
    "        img_rgb = cv2.cvtColor(img, cv2.COLOR_BGR2RGB)\n",
    "        \n",
    "        axes[idx].imshow(img_rgb)\n",
    "        axes[idx].set_title(spec_file.stem)\n",
    "        axes[idx].axis('off')\n",
    "    \n",
    "    plt.tight_layout()\n",
    "    plt.show()"
   ]
  },
  {
   "cell_type": "markdown",
   "metadata": {},
   "source": [
    "## Next Steps\n",
    "\n",
    "Continue to notebook 03 for sliding window analysis."
   ]
  }
 ],
 "metadata": {
  "kernelspec": {
   "display_name": "Python 3",
   "language": "python",
   "name": "python3"
  },
  "language_info": {
   "name": "python",
   "version": "3.8.0"
  }
 },
 "nbformat": 4,
 "nbformat_minor": 4
}
