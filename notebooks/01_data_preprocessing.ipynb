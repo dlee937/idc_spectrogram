{
 "cells": [
  {
   "cell_type": "markdown",
   "metadata": {},
   "source": [
    "# 01 - Data Preprocessing\n",
    "## Loading and Exploring IQ Binary Files (.sc16/.sc32)\n",
    "\n",
    "This notebook covers:\n",
    "- Loading .sc16 and .sc32 binary IQ files\n",
    "- Inspecting file properties\n",
    "- Visualizing I/Q channels\n",
    "- Basic signal quality checks"
   ]
  },
  {
   "cell_type": "code",
   "execution_count": null,
   "metadata": {},
   "outputs": [],
   "source": [
    "# Setup\n",
    "import sys\n",
    "sys.path.append('..')\n",
    "\n",
    "import numpy as np\n",
    "import matplotlib.pyplot as plt\n",
    "from pathlib import Path\n",
    "\n",
    "from src.io_utils import load_iq_data, get_file_info\n",
    "from src.visualization import plot_iq_data\n",
    "\n",
    "print(\"✅ All imports successful!\")"
   ]
  },
  {
   "cell_type": "markdown",
   "metadata": {},
   "source": [
    "## Configuration"
   ]
  },
  {
   "cell_type": "code",
   "execution_count": null,
   "metadata": {},
   "outputs": [],
   "source": [
    "# Paths\n",
    "RAW_DATA_DIR = Path('../data/raw')\n",
    "SAMPLE_RATE = 20e6  # 20 MHz\n",
    "DTYPE = 'sc16'  # or 'sc32'\n",
    "\n",
    "# List available files\n",
    "iq_files = sorted(RAW_DATA_DIR.glob(f'*.{DTYPE}'))\n",
    "print(f\"Found {len(iq_files)} IQ files:\")\n",
    "for f in iq_files[:5]:  # Show first 5\n",
    "    print(f\"  - {f.name}\")"
   ]
  },
  {
   "cell_type": "markdown",
   "metadata": {},
   "source": [
    "## Load and Inspect IQ File"
   ]
  },
  {
   "cell_type": "code",
   "execution_count": null,
   "metadata": {},
   "outputs": [],
   "source": [
    "# Select first file for inspection\n",
    "if len(iq_files) > 0:\n",
    "    sample_file = iq_files[0]\n",
    "    \n",
    "    # Get file info\n",
    "    info = get_file_info(sample_file, dtype=DTYPE)\n",
    "    print(\"File Information:\")\n",
    "    print(f\"  Filename: {info['filename']}\")\n",
    "    print(f\"  Size: {info['file_size_mb']:.2f} MB\")\n",
    "    print(f\"  Samples: {info['num_samples']:,}\")\n",
    "    print(f\"  Duration: {info['duration_ms']:.2f} ms\")\n",
    "    \n",
    "    # Load IQ data\n",
    "    iq_data = load_iq_data(sample_file, dtype=DTYPE)\n",
    "    print(f\"\\n✅ Loaded {len(iq_data):,} IQ samples\")\n",
    "else:\n",
    "    print(\"⚠️ No IQ files found. Please place .sc16/.sc32 files in data/raw/\")"
   ]
  },
  {
   "cell_type": "markdown",
   "metadata": {},
   "source": [
    "## Visualize IQ Channels"
   ]
  },
  {
   "cell_type": "code",
   "execution_count": null,
   "metadata": {},
   "outputs": [],
   "source": [
    "if len(iq_files) > 0:\n",
    "    plot_iq_data(iq_data, fs=SAMPLE_RATE, max_samples=10000, title=\"IQ Data Sample\")"
   ]
  },
  {
   "cell_type": "markdown",
   "metadata": {},
   "source": [
    "## Signal Quality Metrics"
   ]
  },
  {
   "cell_type": "code",
   "execution_count": null,
   "metadata": {},
   "outputs": [],
   "source": [
    "if len(iq_files) > 0:\n",
    "    # Calculate basic statistics\n",
    "    print(\"Signal Statistics:\")\n",
    "    print(f\"  Mean (I): {np.mean(iq_data.real):.6f}\")\n",
    "    print(f\"  Mean (Q): {np.mean(iq_data.imag):.6f}\")\n",
    "    print(f\"  Std (I): {np.std(iq_data.real):.6f}\")\n",
    "    print(f\"  Std (Q): {np.std(iq_data.imag):.6f}\")\n",
    "    print(f\"  Peak amplitude: {np.max(np.abs(iq_data)):.6f}\")\n",
    "    \n",
    "    # Power spectrum\n",
    "    power = np.abs(iq_data) ** 2\n",
    "    print(f\"  Average power: {np.mean(power):.6f}\")"
   ]
  },
  {
   "cell_type": "markdown",
   "metadata": {},
   "source": [
    "## Next Steps\n",
    "\n",
    "Continue to notebook 02 for spectrogram generation."
   ]
  }
 ],
 "metadata": {
  "kernelspec": {
   "display_name": "Python 3",
   "language": "python",
   "name": "python3"
  },
  "language_info": {
   "name": "python",
   "version": "3.8.0"
  }
 },
 "nbformat": 4,
 "nbformat_minor": 4
}
