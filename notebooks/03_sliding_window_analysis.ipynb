{
 "cells": [
  {
   "cell_type": "markdown",
   "metadata": {},
   "source": [
    "# 03 - Sliding Window Analysis\n",
    "## Detecting Cut-off Bluetooth Signals\n",
    "\n",
    "This notebook covers:\n",
    "- Temporal sliding window implementation\n",
    "- Bluetooth signal cutoff detection\n",
    "- Visualization of detections\n",
    "- Analysis of frequency continuity"
   ]
  },
  {
   "cell_type": "code",
   "execution_count": null,
   "metadata": {},
   "outputs": [],
   "source": [
    "# Setup\n",
    "import sys\n",
    "sys.path.append('..')\n",
    "\n",
    "import numpy as np\n",
    "import matplotlib.pyplot as plt\n",
    "from pathlib import Path\n",
    "import cv2\n",
    "\n",
    "from src.slicing import sliding_window_bluetooth_detection\n",
    "from src.visualization import visualize_cutoff_detections\n",
    "\n",
    "print(\"✅ All imports successful!\")"
   ]
  },
  {
   "cell_type": "markdown",
   "metadata": {},
   "source": [
    "## Configuration"
   ]
  },
  {
   "cell_type": "code",
   "execution_count": null,
   "metadata": {},
   "outputs": [],
   "source": [
    "# Paths\n",
    "SPECTROGRAM_DIR = Path('../data/spectrograms')\n",
    "RESULTS_DIR = Path('../results/cutoff_detections')\n",
    "RESULTS_DIR.mkdir(parents=True, exist_ok=True)\n",
    "\n",
    "# Sliding window parameters\n",
    "WINDOW_SIZE = 5  # Number of consecutive frames\n",
    "STRIDE = 1  # Step size\n",
    "\n",
    "print(f\"Window size: {WINDOW_SIZE} frames\")\n",
    "print(f\"Stride: {STRIDE} frame(s)\")"
   ]
  },
  {
   "cell_type": "markdown",
   "metadata": {},
   "source": [
    "## Run Sliding Window Detection"
   ]
  },
  {
   "cell_type": "code",
   "execution_count": null,
   "metadata": {},
   "outputs": [],
   "source": [
    "# Detect Bluetooth cutoffs\n",
    "detections = sliding_window_bluetooth_detection(\n",
    "    spectrogram_dir=SPECTROGRAM_DIR,\n",
    "    window_size=WINDOW_SIZE,\n",
    "    stride=STRIDE\n",
    ")\n",
    "\n",
    "print(f\"Found {len(detections)} potential Bluetooth cutoff events\")\n",
    "\n",
    "# Display detection summary\n",
    "if len(detections) > 0:\n",
    "    print(\"\\nTop 10 detections by confidence:\")\n",
    "    sorted_detections = sorted(detections, \n",
    "                              key=lambda x: x['cutoff_info']['confidence'], \n",
    "                              reverse=True)\n",
    "    \n",
    "    for idx, det in enumerate(sorted_detections[:10], 1):\n",
    "        conf = det['cutoff_info']['confidence']\n",
    "        print(f\"{idx}. Frames {det['start_frame']}-{det['end_frame']}: confidence={conf:.3f}\")"
   ]
  },
  {
   "cell_type": "markdown",
   "metadata": {},
   "source": [
    "## Visualize Detections"
   ]
  },
  {
   "cell_type": "code",
   "execution_count": null,
   "metadata": {},
   "outputs": [],
   "source": [
    "# Generate visualization images\n",
    "if len(detections) > 0:\n",
    "    visualize_cutoff_detections(\n",
    "        spectrogram_dir=SPECTROGRAM_DIR,\n",
    "        detections=detections,\n",
    "        output_dir=RESULTS_DIR\n",
    "    )\n",
    "    print(f\"Visualizations saved to {RESULTS_DIR}\")"
   ]
  },
  {
   "cell_type": "markdown",
   "metadata": {},
   "source": [
    "## Analysis: Cutoff Statistics"
   ]
  },
  {
   "cell_type": "code",
   "execution_count": null,
   "metadata": {},
   "outputs": [],
   "source": [
    "if len(detections) > 0:\n",
    "    confidences = [d['cutoff_info']['confidence'] for d in detections]\n",
    "    \n",
    "    plt.figure(figsize=(10, 6))\n",
    "    plt.hist(confidences, bins=20, edgecolor='black')\n",
    "    plt.xlabel('Confidence Score')\n",
    "    plt.ylabel('Count')\n",
    "    plt.title('Distribution of Bluetooth Cutoff Confidence Scores')\n",
    "    plt.grid(True, alpha=0.3)\n",
    "    plt.tight_layout()\n",
    "    plt.show()\n",
    "    \n",
    "    print(f\"Mean confidence: {np.mean(confidences):.3f}\")\n",
    "    print(f\"Median confidence: {np.median(confidences):.3f}\")\n",
    "    print(f\"High confidence (>0.5): {sum(c > 0.5 for c in confidences)} detections\")"
   ]
  },
  {
   "cell_type": "markdown",
   "metadata": {},
   "source": [
    "## Next Steps\n",
    "\n",
    "Continue to notebook 04 for signal detection and classification."
   ]
  }
 ],
 "metadata": {
  "kernelspec": {
   "display_name": "Python 3",
   "language": "python",
   "name": "python3"
  },
  "language_info": {
   "name": "python",
   "version": "3.8.0"
  }
 },
 "nbformat": 4,
 "nbformat_minor": 4
}
